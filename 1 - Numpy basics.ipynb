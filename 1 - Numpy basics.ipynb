{
 "cells": [
  {
   "cell_type": "markdown",
   "metadata": {},
   "source": [
    "## Numpy basics\n",
    "- Create Numpy array\n",
    "- Make operations with Numpy array"
   ]
  },
  {
   "cell_type": "code",
   "execution_count": 1,
   "metadata": {},
   "outputs": [
    {
     "data": {
      "text/plain": [
       "array([['Country', 'Region', 'GDP per capita', ..., '2011', '2012', '2013'],\n",
       "       ['Albania', 'Europe & Central Asia', '1965.70723', ..., '2904780',\n",
       "        '2900489', '2897366'],\n",
       "       ['Algeria', 'Middle East & North Africa', '2255.225482', ...,\n",
       "        '36717132', '37439427', '38186135'],\n",
       "       ..., \n",
       "       ['Vietnam', 'East Asia & Pacific', '757.4009286', ..., '87840000',\n",
       "        '88772900', '89708900'],\n",
       "       ['Zambia', 'Sub-Saharan Africa', '443.9206307', ..., '14343526',\n",
       "        '14786581', '15246086'],\n",
       "       ['Zimbabwe', 'Sub-Saharan Africa', '347.7456605', ..., '14255592',\n",
       "        '14565482', '14898092']], \n",
       "      dtype='<U30')"
      ]
     },
     "execution_count": 1,
     "metadata": {},
     "output_type": "execute_result"
    }
   ],
   "source": [
    "import csv\n",
    "import numpy as np\n",
    "my_list = []\n",
    "with open('data/demographics.csv', 'r') as f:\n",
    "    reader = csv.reader(f, delimiter=';')\n",
    "    my_list = list(reader)\n",
    "demographics = np.array(my_list)\n",
    "demographics"
   ]
  },
  {
   "cell_type": "code",
   "execution_count": 2,
   "metadata": {},
   "outputs": [],
   "source": [
    "countries = demographics[1:,0:1]\n",
    "years = demographics[0,4:]\n",
    "# XXX fix the (A, ) array to (A, 1) shape\n",
    "years = years[:,np.newaxis]\n",
    "regions = demographics[1:,1]\n",
    "\n",
    "\n",
    "# Population growth\n",
    "population_brazil = demographics[19,4:].astype(np.uint32)\n",
    "population_brazil = population_brazil[:,np.newaxis]\n",
    "population_usa = demographics[153,4:].astype(np.uint32)\n",
    "population_usa = population_usa[:,np.newaxis]\n",
    "\n",
    "# Population/Life expectancy/GDP per capita in countries\n",
    "life_exp = demographics[1:,3:4].astype(np.float)\n",
    "population = demographics[1:,-1].astype(np.uint32)\n",
    "population = population[:,np.newaxis]\n",
    "gdp_pc = demographics[1:,2:3].astype(np.float)"
   ]
  },
  {
   "cell_type": "code",
   "execution_count": 3,
   "metadata": {},
   "outputs": [
    {
     "data": {
      "text/plain": [
       "72.232641509433975"
      ]
     },
     "execution_count": 3,
     "metadata": {},
     "output_type": "execute_result"
    }
   ],
   "source": [
    "# show mean Life expectancy among countries (in millions)\n",
    "np.mean(life_exp)"
   ]
  },
  {
   "cell_type": "code",
   "execution_count": 4,
   "metadata": {},
   "outputs": [
    {
     "data": {
      "text/plain": [
       "7.8246988772273687"
      ]
     },
     "execution_count": 4,
     "metadata": {},
     "output_type": "execute_result"
    }
   ],
   "source": [
    "# show standard deviation of life expectancy among all countries (in millions)\n",
    "np.std(life_exp)"
   ]
  },
  {
   "cell_type": "code",
   "execution_count": 5,
   "metadata": {},
   "outputs": [
    {
     "data": {
      "text/plain": [
       "array([[ 180.671   ],\n",
       "       [ 183.691   ],\n",
       "       [ 186.538   ],\n",
       "       [ 189.242   ],\n",
       "       [ 191.889   ],\n",
       "       [ 194.303   ],\n",
       "       [ 196.56    ],\n",
       "       [ 198.712   ],\n",
       "       [ 200.706   ],\n",
       "       [ 202.677   ],\n",
       "       [ 205.052   ],\n",
       "       [ 207.661   ],\n",
       "       [ 209.896   ],\n",
       "       [ 211.909   ],\n",
       "       [ 213.854   ],\n",
       "       [ 215.973   ],\n",
       "       [ 218.035   ],\n",
       "       [ 220.239   ],\n",
       "       [ 222.585   ],\n",
       "       [ 225.055   ],\n",
       "       [ 227.225   ],\n",
       "       [ 229.466   ],\n",
       "       [ 231.664   ],\n",
       "       [ 233.792   ],\n",
       "       [ 235.825   ],\n",
       "       [ 237.924   ],\n",
       "       [ 240.133   ],\n",
       "       [ 242.289   ],\n",
       "       [ 244.499   ],\n",
       "       [ 246.819   ],\n",
       "       [ 249.623   ],\n",
       "       [ 252.981   ],\n",
       "       [ 256.514   ],\n",
       "       [ 259.919   ],\n",
       "       [ 263.126   ],\n",
       "       [ 266.278   ],\n",
       "       [ 269.394   ],\n",
       "       [ 272.657   ],\n",
       "       [ 275.854   ],\n",
       "       [ 279.04    ],\n",
       "       [ 282.162411],\n",
       "       [ 284.968955],\n",
       "       [ 287.625193],\n",
       "       [ 290.107933],\n",
       "       [ 292.805298],\n",
       "       [ 295.516599],\n",
       "       [ 298.379912],\n",
       "       [ 301.231207],\n",
       "       [ 304.093966],\n",
       "       [ 306.771529],\n",
       "       [ 309.347057],\n",
       "       [ 311.721632],\n",
       "       [ 314.112078],\n",
       "       [ 316.497531]])"
      ]
     },
     "execution_count": 5,
     "metadata": {},
     "output_type": "execute_result"
    }
   ],
   "source": [
    "# multiplying np arrays\n",
    "conversion = np.array([0.000001])\n",
    "population_brazil_in_millions = population_brazil * conversion\n",
    "population_usa_in_millions = population_usa * conversion\n",
    "population_in_millions = population * conversion\n",
    "population_in_millions = population_in_millions.astype(np.float)\n",
    "population_usa_in_millions"
   ]
  },
  {
   "cell_type": "code",
   "execution_count": 6,
   "metadata": {},
   "outputs": [
    {
     "data": {
      "text/plain": [
       "array([['Brazil', 'China', 'India', 'Indonesia', 'United States'],\n",
       "       ['204.259377', '1357.3799999999999', '1279.498874', '251.268276',\n",
       "        '316.497531']], \n",
       "      dtype='<U32')"
      ]
     },
     "execution_count": 6,
     "metadata": {},
     "output_type": "execute_result"
    }
   ],
   "source": [
    "# get countries had more than 200 million people in 2013\n",
    "np.array([countries[population_in_millions > 200], \n",
    "          population_in_millions[population_in_millions > 200]])"
   ]
  },
  {
   "cell_type": "code",
   "execution_count": 7,
   "metadata": {},
   "outputs": [
    {
     "data": {
      "image/png": "[encoded data removed]",
      "text/plain": [
       "<matplotlib.figure.Figure at 0x107ee05c0>"
      ]
     },
     "metadata": {},
     "output_type": "display_data"
    }
   ],
   "source": [
    "import matplotlib.pyplot as plt\n",
    "plt.plot(years, population_brazil_in_millions, color='green', linewidth=1)\n",
    "plt.scatter(years, population_usa_in_millions, color='red', linewidth=1)\n",
    "plt.ylabel('Population (in millions)')\n",
    "plt.xlabel('Years')\n",
    "plt.title('Brazil population ('+years[0][0]+'-'+years[-1][0]+')')\n",
    "plt.yticks(range(0,400,40))\n",
    "plt.grid(True)\n",
    "plt.show()"
   ]
  }
 ],
 "metadata": {
  "kernelspec": {
   "display_name": "Python 3",
   "language": "python",
   "name": "python3"
  },
  "language_info": {
   "codemirror_mode": {
    "name": "ipython",
    "version": 3
   },
   "file_extension": ".py",
   "mimetype": "text/x-python",
   "name": "python",
   "nbconvert_exporter": "python",
   "pygments_lexer": "ipython3",
   "version": "3.5.1"
  }
 },
 "nbformat": 4,
 "nbformat_minor": 2
}
