{
 "cells": [
  {
   "cell_type": "code",
   "execution_count": 1,
   "metadata": {},
   "outputs": [],
   "source": [
    "import csv\n",
    "import numpy as np\n",
    "import pandas as pd"
   ]
  },
  {
   "cell_type": "code",
   "execution_count": 2,
   "metadata": {},
   "outputs": [
    {
     "data": {
      "text/plain": [
       "176"
      ]
     },
     "execution_count": 2,
     "metadata": {},
     "output_type": "execute_result"
    }
   ],
   "source": [
    "my_list = []\n",
    "with open('data/gdp_pc.csv', 'r') as f:\n",
    "    reader = csv.reader(f, delimiter=';')\n",
    "    my_list = list(reader)\n",
    "df = pd.DataFrame(my_list)\n",
    "df.set_index(0, inplace=True)\n",
    "gdp_pc_dict = {}\n",
    "for idx, row in df.iterrows():\n",
    "        gdp_pc = row.values[-1]\n",
    "        if len(gdp_pc) > 0:\n",
    "            gdp_pc_dict[idx] = gdp_pc.replace(',', '.')\n",
    "len(gdp_pc_dict)"
   ]
  },
  {
   "cell_type": "code",
   "execution_count": 3,
   "metadata": {},
   "outputs": [
    {
     "data": {
      "text/plain": [
       "209"
      ]
     },
     "execution_count": 3,
     "metadata": {},
     "output_type": "execute_result"
    }
   ],
   "source": [
    "my_list = []\n",
    "with open('data/life_exp.csv', 'r') as f:\n",
    "    reader = csv.reader(f, delimiter=';')\n",
    "    my_list = list(reader)\n",
    "df = pd.DataFrame(my_list)\n",
    "df.set_index(0, inplace=True)\n",
    "life_exp_dict = {}\n",
    "for idx, row in df.iterrows():\n",
    "        life_exp = row.values[-1]\n",
    "        if len(life_exp) > 0:\n",
    "            life_exp_dict[idx] = life_exp.replace(',', '.')\n",
    "len(life_exp_dict)"
   ]
  },
  {
   "cell_type": "code",
   "execution_count": 4,
   "metadata": {},
   "outputs": [
    {
     "data": {
      "text/plain": [
       "216"
      ]
     },
     "execution_count": 4,
     "metadata": {},
     "output_type": "execute_result"
    }
   ],
   "source": [
    "my_list = []\n",
    "with open('data/Country-Metadata.csv', 'r') as f:\n",
    "    reader = csv.reader(f, delimiter=';')\n",
    "    my_list = list(reader)\n",
    "df = pd.DataFrame(my_list)\n",
    "df.set_index(0, inplace=True)\n",
    "region = {}\n",
    "for idx, row in df.iterrows():\n",
    "    region[idx] = row.values[1]\n",
    "len(region)"
   ]
  },
  {
   "cell_type": "code",
   "execution_count": 5,
   "metadata": {},
   "outputs": [
    {
     "data": {
      "text/plain": [
       "216"
      ]
     },
     "execution_count": 5,
     "metadata": {},
     "output_type": "execute_result"
    }
   ],
   "source": [
    "my_list = []\n",
    "with open('data/Country-population.csv', 'r') as f:\n",
    "    reader = csv.reader(f, delimiter=';')\n",
    "    my_list = list(reader)\n",
    "df = pd.DataFrame(my_list)\n",
    "df.set_index(0, inplace=True)\n",
    "years_list = df.iloc[0][3:].values\n",
    "#years_list = ['Population in '+year for year in years_list]\n",
    "population_dict = {}\n",
    "for idx, row in df.iterrows():\n",
    "    population_dict[idx] = row.values[3:]\n",
    "len(population_dict)"
   ]
  },
  {
   "cell_type": "code",
   "execution_count": 6,
   "metadata": {},
   "outputs": [],
   "source": [
    "# Combine all information based on Country name\n",
    "new_list = []\n",
    "for key in gdp_pc_dict:\n",
    "    try:\n",
    "        l = [key, region[key], gdp_pc_dict[key], life_exp_dict[key]]\n",
    "        l.extend(population_dict[key])\n",
    "        new_list.append(l)\n",
    "    except:\n",
    "        pass\n",
    "new_list = sorted(new_list, key=lambda x : x[0])\n",
    "\n",
    "# Create a new CSV file\n",
    "with open('data/demographics.csv', 'w') as outcsv:\n",
    "    writer = csv.writer(outcsv, delimiter=';', quotechar='\"', quoting=csv.QUOTE_ALL)\n",
    "    headers = ['Country', 'Region', 'GDP per capita', 'Life expectancy']\n",
    "    headers.extend(years_list)\n",
    "    writer.writerow(headers)\n",
    "    for line in new_list:\n",
    "        writer.writerow(line)\n"
   ]
  }
 ],
 "metadata": {
  "kernelspec": {
   "display_name": "Python 3",
   "language": "python",
   "name": "python3"
  },
  "language_info": {
   "codemirror_mode": {
    "name": "ipython",
    "version": 3
   },
   "file_extension": ".py",
   "mimetype": "text/x-python",
   "name": "python",
   "nbconvert_exporter": "python",
   "pygments_lexer": "ipython3",
   "version": "3.5.1"
  }
 },
 "nbformat": 4,
 "nbformat_minor": 2
}
